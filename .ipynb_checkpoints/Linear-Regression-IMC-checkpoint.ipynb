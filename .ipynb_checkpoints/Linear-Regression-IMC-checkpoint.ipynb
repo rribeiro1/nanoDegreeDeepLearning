{
 "cells": [
  {
   "cell_type": "code",
   "execution_count": 3,
   "metadata": {
    "collapsed": true
   },
   "outputs": [],
   "source": [
    "# Assign the dataframe to this variable.\n",
    "# TODO: Load the data\n",
    "bmi_life_data = None \n",
    "\n",
    "# Make and fit the linear regression model\n",
    "#TODO: Fit the model and Assign it to bmi_life_model\n",
    "bmi_life_model = None\n",
    "\n",
    "# Mak a prediction using the model\n",
    "# TODO: Predict life expectancy for a BMI value of 21.07931\n",
    "laos_life_exp = None\n"
   ]
  },
  {
   "cell_type": "markdown",
   "metadata": {},
   "source": [
    "### Add import statements"
   ]
  },
  {
   "cell_type": "code",
   "execution_count": 1,
   "metadata": {
    "collapsed": true
   },
   "outputs": [],
   "source": [
    "import pandas as pd\n",
    "from sklearn import linear_model \n",
    "import matplotlib as plt"
   ]
  },
  {
   "cell_type": "markdown",
   "metadata": {},
   "source": [
    "### Read the data"
   ]
  },
  {
   "cell_type": "code",
   "execution_count": 16,
   "metadata": {},
   "outputs": [
    {
     "name": "stdout",
     "output_type": "stream",
     "text": [
      "                    Country  Life expectancy       BMI\n",
      "0               Afghanistan             52.8  20.62058\n",
      "1                   Albania             76.8  26.44657\n",
      "2                   Algeria             75.5  24.59620\n",
      "3                   Andorra             84.6  27.63048\n",
      "4                    Angola             56.7  22.25083\n",
      "5                   Armenia             72.3  25.35542\n",
      "6                 Australia             81.6  27.56373\n",
      "7                   Austria             80.4  26.46741\n",
      "8                Azerbaijan             69.2  25.65117\n",
      "9                   Bahamas             72.2  27.24594\n",
      "10               Bangladesh             68.3  20.39742\n",
      "11                 Barbados             75.3  26.38439\n",
      "12                  Belarus             70.0  26.16443\n",
      "13                  Belgium             79.6  26.75915\n",
      "14                   Belize             70.7  27.02255\n",
      "15                    Benin             59.7  22.41835\n",
      "16                   Bhutan             70.7  22.82180\n",
      "17                  Bolivia             71.2  24.43335\n",
      "18   Bosnia and Herzegovina             77.5  26.61163\n",
      "19                 Botswana             53.2  22.12984\n",
      "20                   Brazil             73.2  25.78623\n",
      "21                 Bulgaria             73.2  26.54286\n",
      "22             Burkina Faso             58.0  21.27157\n",
      "23                  Burundi             59.1  21.50291\n",
      "24                 Cambodia             66.1  20.80496\n",
      "25                 Cameroon             56.6  23.68173\n",
      "26                   Canada             80.8  27.45210\n",
      "27               Cape Verde             70.4  23.51522\n",
      "28                     Chad             54.3  21.48569\n",
      "29                    Chile             78.5  27.01542\n",
      "..                      ...              ...       ...\n",
      "133                   Spain             81.1  27.49975\n",
      "134               Sri Lanka             74.0  21.96671\n",
      "135                   Sudan             65.5  22.40484\n",
      "136                Suriname             70.2  25.49887\n",
      "137               Swaziland             45.1  23.16969\n",
      "138                  Sweden             81.1  26.37629\n",
      "139             Switzerland             82.0  26.20195\n",
      "140                   Syria             76.1  26.91969\n",
      "141              Tajikistan             69.6  23.77966\n",
      "142                Tanzania             60.4  22.47792\n",
      "143                Thailand             73.9  23.00803\n",
      "144             Timor-Leste             69.9  20.59082\n",
      "145                    Togo             57.5  21.87875\n",
      "146                   Tonga             70.3  30.99563\n",
      "147     Trinidad and Tobago             71.7  26.39669\n",
      "148                 Tunisia             76.8  25.15699\n",
      "149                  Turkey             77.8  26.70371\n",
      "150            Turkmenistan             67.2  25.24796\n",
      "151                  Uganda             56.0  22.35833\n",
      "152                 Ukraine             67.8  25.42379\n",
      "153    United Arab Emirates             75.6  28.05359\n",
      "154          United Kingdom             79.7  27.39249\n",
      "155           United States             78.3  28.45698\n",
      "156                 Uruguay             76.0  26.39123\n",
      "157              Uzbekistan             69.6  25.32054\n",
      "158                 Vanuatu             63.4  26.78926\n",
      "159      West Bank and Gaza             74.1  26.57750\n",
      "160                 Vietnam             74.1  20.91630\n",
      "161                  Zambia             51.1  20.68321\n",
      "162                Zimbabwe             47.3  22.02660\n",
      "\n",
      "[163 rows x 3 columns]\n"
     ]
    }
   ],
   "source": [
    "mbi_life_data = pd.read_csv('bmi_and_life_expectancy.csv')\n",
    "x_values = mbi_life_data[['BMI']]\n",
    "y_values = mbi_life_data[['Life expectancy']]\n",
    "print(mbi_life_data)"
   ]
  },
  {
   "cell_type": "markdown",
   "metadata": {},
   "source": [
    "### Train the model on data"
   ]
  },
  {
   "cell_type": "code",
   "execution_count": 17,
   "metadata": {
    "collapsed": true
   },
   "outputs": [
    {
     "data": {
      "text/plain": [
       "LinearRegression(copy_X=True, fit_intercept=True, n_jobs=1, normalize=False)"
      ]
     },
     "execution_count": 17,
     "metadata": {},
     "output_type": "execute_result"
    }
   ],
   "source": [
    "bmi_life_model = linear_model.LinearRegression()\n",
    "bmi_life_model.fit(x_values, y_values)"
   ]
  },
  {
   "cell_type": "code",
   "execution_count": 18,
   "metadata": {
    "collapsed": true
   },
   "outputs": [],
   "source": [
    "### Predict and Visualize the results"
   ]
  },
  {
   "cell_type": "code",
   "execution_count": null,
   "metadata": {
    "collapsed": true
   },
   "outputs": [],
   "source": []
  }
 ],
 "metadata": {
  "kernelspec": {
   "display_name": "Python 3",
   "language": "python",
   "name": "python3"
  },
  "language_info": {
   "codemirror_mode": {
    "name": "ipython",
    "version": 3
   },
   "file_extension": ".py",
   "mimetype": "text/x-python",
   "name": "python",
   "nbconvert_exporter": "python",
   "pygments_lexer": "ipython3",
   "version": "3.6.1"
  }
 },
 "nbformat": 4,
 "nbformat_minor": 2
}
